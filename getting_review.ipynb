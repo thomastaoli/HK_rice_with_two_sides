{
 "cells": [
  {
   "cell_type": "code",
   "execution_count": 1,
   "metadata": {},
   "outputs": [],
   "source": [
    "import pandas as pd\n",
    "import requests"
   ]
  },
  {
   "cell_type": "code",
   "execution_count": 2,
   "metadata": {},
   "outputs": [],
   "source": [
    "# Load your CSV file\n",
    "file_path = 'Review.csv'  # Update this path\n",
    "places_df = pd.read_csv(file_path)\n",
    "\n",
    "# Function to query Google Places API and get the review score\n",
    "def get_review_score(name, address, api_key):\n",
    "    base_url = \"https://maps.googleapis.com/maps/api/place/findplacefromtext/json\"\n",
    "    params = {\n",
    "        \"input\": f\"{name} {address}\",\n",
    "        \"inputtype\": \"textquery\",\n",
    "        \"fields\": \"rating\",\n",
    "        \"key\": api_key\n",
    "    }\n",
    "    response = requests.get(base_url, params=params)\n",
    "    if response.status_code == 200:\n",
    "        result = response.json()\n",
    "        if 'candidates' in result and len(result['candidates']) > 0:\n",
    "            return result['candidates'][0].get('rating', 'Not Found')\n",
    "    return 'API Error'"
   ]
  },
  {
   "cell_type": "code",
   "execution_count": 3,
   "metadata": {},
   "outputs": [],
   "source": [
    "# Your Google API key\n",
    "api_key = ''\n",
    "\n",
    "# Add a new column for review scores\n",
    "places_df['Review Score'] = places_df.apply(lambda row: get_review_score(row['Name'], row['Address'], api_key), axis=1)"
   ]
  },
  {
   "cell_type": "code",
   "execution_count": 4,
   "metadata": {},
   "outputs": [],
   "source": [
    "# Save the updated dataframe back to CSV\n",
    "output_path = 'Updated_Review.csv'  # Update this path\n",
    "places_df.to_csv(output_path, index=False)"
   ]
  },
  {
   "cell_type": "code",
   "execution_count": 6,
   "metadata": {},
   "outputs": [],
   "source": [
    "# Load the updated CSV file\n",
    "updated_file_path = 'Review.csv'\n",
    "updated_df = pd.read_csv(updated_file_path)\n",
    "\n",
    "# Clean the DataFrame by removing rows where 'Review Score' is 0, 'API Error', or 'Not Found'\n",
    "cleaned_df = updated_df[~updated_df['Review Score'].isin([0, 'API Error', 'Not Found'])]\n",
    "\n",
    "# Save the cleaned DataFrame to a new CSV file\n",
    "cleaned_file_path = 'Review.csv'  # Update this path to your desired output file path\n",
    "cleaned_df.to_csv(cleaned_file_path, index=False)"
   ]
  }
 ],
 "metadata": {
  "kernelspec": {
   "display_name": "Python 3",
   "language": "python",
   "name": "python3"
  },
  "language_info": {
   "codemirror_mode": {
    "name": "ipython",
    "version": 3
   },
   "file_extension": ".py",
   "mimetype": "text/x-python",
   "name": "python",
   "nbconvert_exporter": "python",
   "pygments_lexer": "ipython3",
   "version": "3.11.6"
  }
 },
 "nbformat": 4,
 "nbformat_minor": 2
}
